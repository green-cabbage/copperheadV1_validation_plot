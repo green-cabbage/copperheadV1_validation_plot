{
 "cells": [
  {
   "cell_type": "markdown",
   "id": "2bd17f3a-58f9-45ac-b9a7-d5c50fde5d96",
   "metadata": {},
   "source": [
    "# Validation plot tutorial\n",
    "\n",
    "Here we demonstrate the usage of validation_plotter.py, which plots stage1 outputs of copperheadV1 with a set of parameters, and can do so either in ROOT mode or in mplhep mode. We assume that the conda env is ```/depot/cms/kernels/coffea2024```\n",
    "\n",
    "The cell below has example parameters one can use to quickly plot something. If the parameter list has only one element, please add a comma at the end of the list. The plot package used by default is ```mplhep```"
   ]
  },
  {
   "cell_type": "code",
   "execution_count": 2,
   "id": "5681760c-8123-457a-961a-dcc43ab5d3c0",
   "metadata": {},
   "outputs": [],
   "source": [
    "year = 2018\n",
    "# load_path = f\"/depot/cms/users/yun79/hmm/test_validation/stage1_output/\"\n",
    "load_path = f\"/depot/cms/users/yun79/hmm/test_validation_bigV1/stage1_output/\"\n",
    "data_l = ['A', 'B', 'C', 'D'] # 'A', 'B', 'C', 'D'\n",
    "bkg_l = ['DY',]\n",
    "sig_l = ['ggH','VBF'] # , 'VBF'\n",
    "vars2plot = ['jet',] # 'jet', 'mu', 'dimuon'\n",
    "# data_l = ['A'] # 'A', 'B', 'C', 'D'\n",
    "# bkg_l = ['DY',]\n",
    "# sig_l = [] # , 'VBF'\n",
    "# vars2plot = ['jet',] # 'jet', 'mu', 'dimuon'\n",
    "lumi = 137.9\n",
    "status = \"Private_Work\"\n"
   ]
  },
  {
   "cell_type": "code",
   "execution_count": 5,
   "id": "53eac733-f6b6-4eb5-af0e-3b4554b417a9",
   "metadata": {
    "scrolled": true
   },
   "outputs": [
    {
     "name": "stdout",
     "output_type": "stream",
     "text": [
      "variables2plot: ['jet1_pt', 'jet2_pt', 'jet1_eta', 'jet2_eta', 'jet1_phi', 'jet2_phi']\n",
      "available_processes: ['data_A', 'data_B', 'data_C', 'data_D', 'dy_M-100To200', 'ggh_powheg', 'vbf_powheg']\n",
      "process: data_A\n",
      "data activated\n",
      "process: data_B\n",
      "data activated\n",
      "process: data_C\n",
      "data activated\n",
      "process: data_D\n",
      "data activated\n",
      "process: dy_M-100To200\n",
      "DY activated\n",
      "process: ggh_powheg\n",
      "ggH activated\n",
      "process: vbf_powheg\n",
      "VBF activated\n",
      "available_processes: ['data_A', 'data_B', 'data_C', 'data_D', 'dy_M-100To200', 'ggh_powheg', 'vbf_powheg']\n",
      "process: data_A\n",
      "data activated\n",
      "process: data_B\n",
      "data activated\n",
      "process: data_C\n",
      "data activated\n",
      "process: data_D\n",
      "data activated\n",
      "process: dy_M-100To200\n",
      "DY activated\n",
      "process: ggh_powheg\n",
      "ggH activated\n",
      "process: vbf_powheg\n",
      "VBF activated\n",
      "available_processes: ['data_A', 'data_B', 'data_C', 'data_D', 'dy_M-100To200', 'ggh_powheg', 'vbf_powheg']\n",
      "process: data_A\n",
      "data activated\n",
      "process: data_B\n",
      "data activated\n",
      "process: data_C\n",
      "data activated\n",
      "process: data_D\n",
      "data activated\n",
      "process: dy_M-100To200\n",
      "^C\n"
     ]
    }
   ],
   "source": [
    "! python validation_plotter.py -y {year}  --load_path {load_path}  -var {' '.join(vars2plot)} --data {' '.join(data_l)}  --background {' '.join(bkg_l)} --signal {' '.join(sig_l)} --lumi 137.9 --status {status}     "
   ]
  },
  {
   "cell_type": "markdown",
   "id": "01613d26-9eae-47c2-acba-78a89ad33e41",
   "metadata": {},
   "source": [
    "To plot in ```pyROOT``` style, one can put ```--ROOT_style``` boolean flag in the terminal command:"
   ]
  },
  {
   "cell_type": "code",
   "execution_count": 6,
   "id": "a691a647-e351-4f6b-92ad-a31fcd6e1f4c",
   "metadata": {},
   "outputs": [
    {
     "name": "stdout",
     "output_type": "stream",
     "text": [
      "variables2plot: ['mu1_pt', 'mu2_pt', 'mu1_eta', 'mu2_eta', 'mu1_phi', 'mu2_phi']\n",
      "available_processes: ['data_A', 'dy_M-100To200']\n",
      "process: data_A\n",
      "Traceback (most recent call last):\n",
      "  File \"/depot/cms/kernels/coffea2024/lib/python3.10/site-packages/dask_expr/_core.py\", line 446, in __getattr__\n",
      "    return object.__getattribute__(self, key)\n",
      "AttributeError: 'ReadParquetFSSpec' object has no attribute 'jj_mass_nominal'\n",
      "\n",
      "During handling of the above exception, another exception occurred:\n",
      "\n",
      "Traceback (most recent call last):\n",
      "  File \"/depot/cms/kernels/coffea2024/lib/python3.10/site-packages/dask_expr/_collection.py\", line 511, in __getattr__\n",
      "    val = getattr(self.expr, key)\n",
      "  File \"/depot/cms/kernels/coffea2024/lib/python3.10/site-packages/dask_expr/_core.py\", line 467, in __getattr__\n",
      "    raise AttributeError(\n",
      "AttributeError: 'ReadParquetFSSpec' object has no attribute 'jj_mass_nominal'\n",
      "\n",
      "This often means that you are attempting to use an unsupported API function. Current API coverage is documented here: https://github.com/dask-contrib/dask-expr/blob/main/README.md#api-coverage.\n",
      "\n",
      "During handling of the above exception, another exception occurred:\n",
      "\n",
      "Traceback (most recent call last):\n",
      "  File \"/depot/cms/private/users/yun79/valerie/fork/original/copperheadV1_validation_plot/validation_plotter.py\", line 232, in <module>\n",
      "    vbf_cut = (events.jj_mass_nominal > 400) & (events.jj_dEta_nominal > 2.5) & (events.jet1_pt_nominal > 35)\n",
      "  File \"/depot/cms/kernels/coffea2024/lib/python3.10/site-packages/dask_expr/_collection.py\", line 2889, in __getattr__\n",
      "    return super().__getattr__(key)\n",
      "  File \"/depot/cms/kernels/coffea2024/lib/python3.10/site-packages/dask_expr/_collection.py\", line 517, in __getattr__\n",
      "    raise err\n",
      "  File \"/depot/cms/kernels/coffea2024/lib/python3.10/site-packages/dask_expr/_collection.py\", line 506, in __getattr__\n",
      "    return object.__getattribute__(self, key)\n",
      "AttributeError: 'DataFrame' object has no attribute 'jj_mass_nominal'\n"
     ]
    }
   ],
   "source": [
    "! python validation_plotter.py -y {year}  --load_path {load_path}  -var {' '.join(vars2plot)} --data {' '.join(data_l)}  --background {' '.join(bkg_l)} --signal {' '.join(sig_l)} --lumi 137.9 --status {status}  --ROOT_style   "
   ]
  },
  {
   "cell_type": "code",
   "execution_count": null,
   "id": "80e4897a-9ed6-4e1e-8b45-4f58ff96201d",
   "metadata": {},
   "outputs": [],
   "source": []
  }
 ],
 "metadata": {
  "kernelspec": {
   "display_name": "Python [conda env:coffea2024]",
   "language": "python",
   "name": "conda-env-coffea2024-py"
  },
  "language_info": {
   "codemirror_mode": {
    "name": "ipython",
    "version": 3
   },
   "file_extension": ".py",
   "mimetype": "text/x-python",
   "name": "python",
   "nbconvert_exporter": "python",
   "pygments_lexer": "ipython3",
   "version": "3.10.13"
  }
 },
 "nbformat": 4,
 "nbformat_minor": 5
}

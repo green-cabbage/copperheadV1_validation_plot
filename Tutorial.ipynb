{
 "cells": [
  {
   "cell_type": "markdown",
   "id": "2bd17f3a-58f9-45ac-b9a7-d5c50fde5d96",
   "metadata": {},
   "source": [
    "# Validation plot tutorial\n",
    "\n",
    "Here we demonstrate the usage of validation_plotter.py, which plots stage1 outputs of copperheadV1 with a set of parameters, and can do so either in ROOT mode or in mplhep mode. We assume that the conda env is ```/depot/cms/kernels/coffea2024```\n",
    "\n",
    "The cell below has example parameters one can use to quickly plot something. If the parameter list has only one element, please add a comma at the end of the list. The plot package used by default is ```mplhep```"
   ]
  },
  {
   "cell_type": "code",
   "execution_count": 30,
   "id": "5681760c-8123-457a-961a-dcc43ab5d3c0",
   "metadata": {},
   "outputs": [],
   "source": [
    "year = 2018\n",
    "load_path = f\"/depot/cms/users/yun79/hmm/test_validation/stage1_output/\"\n",
    "data_l = ['C',] # 'A', 'B', 'C', 'D'\n",
    "bkg_l = ['DY',]\n",
    "sig_l = ['ggH', 'VBF']\n",
    "vars2plot = ['dimuon',] # 'jet', 'mu', 'dimuon'\n",
    "lumi = 137.9\n",
    "status = \"Private_Work\"\n"
   ]
  },
  {
   "cell_type": "code",
   "execution_count": 37,
   "id": "53eac733-f6b6-4eb5-af0e-3b4554b417a9",
   "metadata": {},
   "outputs": [
    {
     "name": "stdout",
     "output_type": "stream",
     "text": [
      "variables2plot: ['dimuon_mass']\n",
      "available_processes: ['data_C', 'dy_M-100To200', 'ggh_powheg', 'vbf_powheg']\n",
      "process: data_C\n",
      "data activated\n",
      "process: dy_M-100To200\n",
      "DY activated\n",
      "process: ggh_powheg\n",
      "ggH activated\n",
      "process: vbf_powheg\n",
      "VBF activated\n"
     ]
    }
   ],
   "source": [
    "! python validation_plotter.py -y {year}  --load_path {load_path}  -var {' '.join(vars2plot)} --data {' '.join(data_l)}  --background {' '.join(bkg_l)} --signal {' '.join(sig_l)} --lumi 137.9 --status {status}     "
   ]
  },
  {
   "cell_type": "markdown",
   "id": "01613d26-9eae-47c2-acba-78a89ad33e41",
   "metadata": {},
   "source": [
    "To plot in ```pyROOT``` style, one can put ```--ROOT_style``` boolean flag in the terminal command:"
   ]
  },
  {
   "cell_type": "code",
   "execution_count": null,
   "id": "a691a647-e351-4f6b-92ad-a31fcd6e1f4c",
   "metadata": {},
   "outputs": [
    {
     "name": "stdout",
     "output_type": "stream",
     "text": [
      "variables2plot: ['dimuon_mass']\n",
      "available_processes: ['data_C', 'dy_M-100To200', 'ggh_powheg', 'vbf_powheg']\n",
      "process: data_C\n",
      "data activated\n",
      "process: dy_M-100To200\n"
     ]
    }
   ],
   "source": [
    "! python validation_plotter.py -y {year}  --load_path {load_path}  -var {' '.join(vars2plot)} --data {' '.join(data_l)}  --background {' '.join(bkg_l)} --signal {' '.join(sig_l)} --lumi 137.9 --status {status}  --ROOT_style   "
   ]
  },
  {
   "cell_type": "code",
   "execution_count": null,
   "id": "35a79b04-d36c-488a-971a-782c987f3a62",
   "metadata": {},
   "outputs": [],
   "source": [
    "--background {' '.join(bkg_l)} --signal {' '.join(sig_l)} --lumi 137.9 --status {status}  --ROOT_style "
   ]
  }
 ],
 "metadata": {
  "kernelspec": {
   "display_name": "Python [conda env:coffea2024]",
   "language": "python",
   "name": "conda-env-coffea2024-py"
  },
  "language_info": {
   "codemirror_mode": {
    "name": "ipython",
    "version": 3
   },
   "file_extension": ".py",
   "mimetype": "text/x-python",
   "name": "python",
   "nbconvert_exporter": "python",
   "pygments_lexer": "ipython3",
   "version": "3.10.13"
  }
 },
 "nbformat": 4,
 "nbformat_minor": 5
}

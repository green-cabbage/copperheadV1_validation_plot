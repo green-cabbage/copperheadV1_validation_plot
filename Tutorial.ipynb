{
 "cells": [
  {
   "cell_type": "markdown",
   "id": "2bd17f3a-58f9-45ac-b9a7-d5c50fde5d96",
   "metadata": {},
   "source": [
    "# Validation plot tutorial\n",
    "\n",
    "Here we demonstrate the usage of validation_plotter.py, which plots stage1 outputs of copperheadV1 with a set of parameters, and can do so either in ROOT mode or in mplhep mode. We assume that the conda env is ```/depot/cms/kernels/coffea2024```\n",
    "\n",
    "The cell below has example parameters one can use to quickly plot something. If the parameter list has only one element, please add a comma at the end of the list. The plot package used by default is ```mplhep```"
   ]
  },
  {
   "cell_type": "code",
   "execution_count": 46,
   "id": "5681760c-8123-457a-961a-dcc43ab5d3c0",
   "metadata": {},
   "outputs": [],
   "source": [
    "year = 2018\n",
    "load_path = f\"/depot/cms/users/yun79/hmm/test_validation/stage1_output/\"\n",
    "data_l = ['C',] # 'A', 'B', 'C', 'D'\n",
    "bkg_l = ['DY',]\n",
    "sig_l = ['ggH'] # , 'VBF'\n",
    "vars2plot = ['dimuon',] # 'jet', 'mu', 'dimuon'\n",
    "lumi = 137.9\n",
    "status = \"Private_Work\"\n"
   ]
  },
  {
   "cell_type": "code",
   "execution_count": 41,
   "id": "53eac733-f6b6-4eb5-af0e-3b4554b417a9",
   "metadata": {},
   "outputs": [
    {
     "name": "stdout",
     "output_type": "stream",
     "text": [
      "variables2plot: ['dimuon_mass']\n",
      "available_processes: ['data_C', 'dy_M-100To200', 'ggh_powheg', 'vbf_powheg']\n",
      "process: data_C\n",
      "^C\n",
      "Traceback (most recent call last):\n",
      "  File \"/depot/cms/private/users/yun79/valerie/fork/original/copperheadV1_validation_plot/validation_plotter.py\", line 567, in <module>\n",
      "    np_hist, _ = np.histogram(events[var].compute(), bins=binning, weights = weights)\n",
      "  File \"/depot/cms/kernels/coffea2024/lib/python3.10/site-packages/dask/base.py\", line 379, in compute\n",
      "    (result,) = compute(self, traverse=False, **kwargs)\n",
      "  File \"/depot/cms/kernels/coffea2024/lib/python3.10/site-packages/dask/base.py\", line 665, in compute\n",
      "    results = schedule(dsk, keys, **kwargs)\n",
      "  File \"/depot/cms/kernels/coffea2024/lib/python3.10/queue.py\", line 171, in get\n",
      "    self.not_empty.wait()\n",
      "  File \"/depot/cms/kernels/coffea2024/lib/python3.10/threading.py\", line 320, in wait\n",
      "    waiter.acquire()\n",
      "KeyboardInterrupt\n"
     ]
    }
   ],
   "source": [
    "! python validation_plotter.py -y {year}  --load_path {load_path}  -var {' '.join(vars2plot)} --data {' '.join(data_l)}  --background {' '.join(bkg_l)} --signal {' '.join(sig_l)} --lumi 137.9 --status {status}     "
   ]
  },
  {
   "cell_type": "markdown",
   "id": "01613d26-9eae-47c2-acba-78a89ad33e41",
   "metadata": {},
   "source": [
    "To plot in ```pyROOT``` style, one can put ```--ROOT_style``` boolean flag in the terminal command:"
   ]
  },
  {
   "cell_type": "code",
   "execution_count": 47,
   "id": "a691a647-e351-4f6b-92ad-a31fcd6e1f4c",
   "metadata": {},
   "outputs": [
    {
     "name": "stdout",
     "output_type": "stream",
     "text": [
      "variables2plot: ['dimuon_mass']\n",
      "available_processes: ['data_C', 'dy_M-100To200', 'ggh_powheg']\n",
      "process: data_C\n",
      "events.columns: Index(['LHEMass', 'dataset', 'dimuon_cos_theta_cs', 'dimuon_cos_theta_cs_pisa',\n",
      "       'dimuon_dEta', 'dimuon_dPhi', 'dimuon_dR', 'dimuon_ebe_mass_res',\n",
      "       'dimuon_ebe_mass_res_rel', 'dimuon_eta', 'dimuon_mass', 'dimuon_phi',\n",
      "       'dimuon_phi_cs', 'dimuon_phi_cs_pisa', 'dimuon_pisa_mass_res',\n",
      "       'dimuon_pisa_mass_res_rel', 'dimuon_pt', 'dimuon_pt_log', 'event',\n",
      "       'htsoft2_nominal', 'htsoft5_nominal', 'jet1_eta_nominal',\n",
      "       'jet1_has_matched_gen_nominal', 'jet1_phi_nominal', 'jet1_pt_nominal',\n",
      "       'jet1_qgl_nominal', 'jet2_eta_nominal', 'jet2_has_matched_gen_nominal',\n",
      "       'jet2_phi_nominal', 'jet2_pt_nominal', 'jet2_qgl_nominal',\n",
      "       'jj_dEta_nominal', 'jj_dPhi_nominal', 'jj_eta_nominal',\n",
      "       'jj_mass_nominal', 'jj_mass_log_nominal', 'jj_phi_nominal',\n",
      "       'jj_pt_nominal', 'll_zstar_log_nominal', 'met', 'mmj1_dEta_nominal',\n",
      "       'mmj1_dPhi_nominal', 'mmj2_dEta_nominal', 'mmj2_dPhi_nominal',\n",
      "       'mmj_min_dEta_nominal', 'mmj_min_dPhi_nominal', 'mmjj_eta_nominal',\n",
      "       'mmjj_mass_nominal', 'mmjj_phi_nominal', 'mmjj_pt_nominal', 'mu1_eta',\n",
      "       'mu1_iso', 'mu1_phi', 'mu1_pt', 'mu1_pt_over_mass', 'mu2_eta',\n",
      "       'mu2_iso', 'mu2_phi', 'mu2_pt', 'mu2_pt_over_mass',\n",
      "       'nBtagLoose_nominal', 'nBtagMedium_nominal', 'njets_nominal', 'npv',\n",
      "       'nsoftjets2_nominal', 'nsoftjets5_nominal', 'region', 'rpt_nominal',\n",
      "       'run', 'wgt_nominal', 'year', 'zeppenfeld_nominal'],\n",
      "      dtype='object')\n",
      "data activated\n",
      "process: dy_M-100To200\n",
      "events.columns: Index(['LHEMass', 'dataset', 'dimuon_cos_theta_cs', 'dimuon_cos_theta_cs_pisa',\n",
      "       'dimuon_dEta', 'dimuon_dPhi', 'dimuon_dR', 'dimuon_ebe_mass_res',\n",
      "       'dimuon_ebe_mass_res_rel', 'dimuon_eta',\n",
      "       ...\n",
      "       'wgt_muTrig_up', 'wgt_nominal', 'wgt_pdf_2rms_down', 'wgt_pdf_2rms_up',\n",
      "       'wgt_pu_wgt_down', 'wgt_pu_wgt_up', 'wgt_qgl_wgt_down',\n",
      "       'wgt_qgl_wgt_up', 'year', 'zeppenfeld_nominal'],\n",
      "      dtype='object', length=123)\n",
      "DY activated\n",
      "process: ggh_powheg\n",
      "events.columns: Index(['LHEMass', 'dataset', 'dimuon_cos_theta_cs', 'dimuon_cos_theta_cs_pisa',\n",
      "       'dimuon_dEta', 'dimuon_dPhi', 'dimuon_dR', 'dimuon_ebe_mass_res',\n",
      "       'dimuon_ebe_mass_res_rel', 'dimuon_eta',\n",
      "       ...\n",
      "       'wgt_muTrig_up', 'wgt_nominal', 'wgt_pdf_2rms_down', 'wgt_pdf_2rms_up',\n",
      "       'wgt_pu_wgt_down', 'wgt_pu_wgt_up', 'wgt_qgl_wgt_down',\n",
      "       'wgt_qgl_wgt_up', 'year', 'zeppenfeld_nominal'],\n",
      "      dtype='object', length=123)\n",
      "ggH activated\n",
      "ratio activated\n",
      "Name: num_hist Title: dimuon_mass NbinsX: 29\n",
      "Name: dimuon_mass_hist_DY Title: dimuon_mass NbinsX: 29\n",
      "Info in <TCanvas::Print>: pdf file ./figs//2018/ROOT/dimuon_mass.pdf has been created\n"
     ]
    }
   ],
   "source": [
    "! python validation_plotter.py -y {year}  --load_path {load_path}  -var {' '.join(vars2plot)} --data {' '.join(data_l)}  --background {' '.join(bkg_l)} --signal {' '.join(sig_l)} --lumi 137.9 --status {status}  --ROOT_style   "
   ]
  },
  {
   "cell_type": "code",
   "execution_count": null,
   "id": "80e4897a-9ed6-4e1e-8b45-4f58ff96201d",
   "metadata": {},
   "outputs": [],
   "source": []
  }
 ],
 "metadata": {
  "kernelspec": {
   "display_name": "Python [conda env:coffea2024]",
   "language": "python",
   "name": "conda-env-coffea2024-py"
  },
  "language_info": {
   "codemirror_mode": {
    "name": "ipython",
    "version": 3
   },
   "file_extension": ".py",
   "mimetype": "text/x-python",
   "name": "python",
   "nbconvert_exporter": "python",
   "pygments_lexer": "ipython3",
   "version": "3.10.13"
  }
 },
 "nbformat": 4,
 "nbformat_minor": 5
}
